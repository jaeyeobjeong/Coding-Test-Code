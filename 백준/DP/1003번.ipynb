{
 "cells": [
  {
   "cell_type": "code",
   "execution_count": 11,
   "id": "30bed20a",
   "metadata": {},
   "outputs": [
    {
     "data": {
      "text/plain": [
       "''"
      ]
     },
     "execution_count": 11,
     "metadata": {},
     "output_type": "execute_result"
    }
   ],
   "source": [
    "import sys\n",
    "sys.stdin.readline().rstrip()"
   ]
  },
  {
   "cell_type": "code",
   "execution_count": 14,
   "id": "0a091a80",
   "metadata": {},
   "outputs": [
    {
     "name": "stdout",
     "output_type": "stream",
     "text": [
      "(1, 2)\n"
     ]
    }
   ],
   "source": [
    "print((1,2))"
   ]
  },
  {
   "cell_type": "code",
   "execution_count": 22,
   "id": "0450b59d",
   "metadata": {},
   "outputs": [
    {
     "name": "stdout",
     "output_type": "stream",
     "text": [
      "1\n",
      "35\n",
      "5702887 9227465\n"
     ]
    }
   ],
   "source": [
    "# Runtime Error\n",
    "# Do not Recursive, But Cache List\n",
    "\n",
    "# def sol(fibo_num): \n",
    "#     if fibo_num == 0:\n",
    "#         return (1,0)\n",
    "#     elif fibo_num == 1:\n",
    "#         return (0,1)\n",
    "#     return sum(sol(fibo_num - 2)), sum(sol(fibo_num - 1))\n",
    "\n",
    "# n = int(input())\n",
    "# for i in range(n):\n",
    "#     input_num = int(input())\n",
    "#     answer = sol(input_num)\n",
    "#     print(answer[0], answer[1])"
   ]
  },
  {
   "cell_type": "code",
   "execution_count": 38,
   "id": "c619508d",
   "metadata": {},
   "outputs": [],
   "source": [
    "def sol_2(num):\n",
    "    lst = [1,0]\n",
    "    for i in range(num):\n",
    "        lst.append(sum(lst[-2:]))\n",
    "    return lst[-2:]\n",
    "\n",
    "n = int(input())\n",
    "for i in range(n):\n",
    "    input_num = int(input())\n",
    "    answer = sol_2(input_num)\n",
    "    print(answer[0], answer[1])"
   ]
  }
 ],
 "metadata": {
  "kernelspec": {
   "display_name": "Python 3 (ipykernel)",
   "language": "python",
   "name": "python3"
  },
  "language_info": {
   "codemirror_mode": {
    "name": "ipython",
    "version": 3
   },
   "file_extension": ".py",
   "mimetype": "text/x-python",
   "name": "python",
   "nbconvert_exporter": "python",
   "pygments_lexer": "ipython3",
   "version": "3.9.7"
  }
 },
 "nbformat": 4,
 "nbformat_minor": 5
}
