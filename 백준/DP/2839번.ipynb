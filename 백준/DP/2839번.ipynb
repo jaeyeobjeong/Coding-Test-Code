{
 "cells": [
  {
   "cell_type": "code",
   "execution_count": 20,
   "id": "721b8596",
   "metadata": {},
   "outputs": [
    {
     "name": "stdout",
     "output_type": "stream",
     "text": [
      "21\n"
     ]
    },
    {
     "data": {
      "text/plain": [
       "5"
      ]
     },
     "execution_count": 20,
     "metadata": {},
     "output_type": "execute_result"
    }
   ],
   "source": [
    "def sol_1(num):\n",
    "    ans_lst = [-1, -1, 1, -1, 1, 2, -1, 2, 3, 2]\n",
    "    if num <= 10:\n",
    "        return ans_lst[num - 1]\n",
    "\n",
    "    for i in range(11, num + 1):\n",
    "        if ans_lst[i - 5 - 1] != -1 and ans_lst[i - 3 - 1] != -1:\n",
    "            ans_lst.append(min(ans_lst[i - 5 - 1], ans_lst[i - 3 - 1]) + 1)\n",
    "        elif ans_lst[i - 5 - 1] != -1 and ans_lst[i - 3 - 1] == -1:\n",
    "            ans_lst.append(ans_lst[i - 5 - 1] + 1)\n",
    "        elif ans_lst[i - 5 - 1] == -1 and ans_lst[i - 3 - 1] != -1:\n",
    "            ans_lst.append(ans_lst[i - 3 - 1] + 1)\n",
    "        else:\n",
    "            ans_lst.append(-1)\n",
    "    return ans_lst[-1]\n",
    "\n",
    "print(sol_1(int(input())))"
   ]
  }
 ],
 "metadata": {
  "kernelspec": {
   "display_name": "Python 3 (ipykernel)",
   "language": "python",
   "name": "python3"
  },
  "language_info": {
   "codemirror_mode": {
    "name": "ipython",
    "version": 3
   },
   "file_extension": ".py",
   "mimetype": "text/x-python",
   "name": "python",
   "nbconvert_exporter": "python",
   "pygments_lexer": "ipython3",
   "version": "3.9.7"
  }
 },
 "nbformat": 4,
 "nbformat_minor": 5
}
