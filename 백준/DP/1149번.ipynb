{
 "cells": [
  {
   "cell_type": "code",
   "execution_count": 16,
   "id": "1724f9bb",
   "metadata": {},
   "outputs": [],
   "source": [
    "input_lst = [\n",
    "[71, 39, 44],\n",
    "[32, 83, 55],\n",
    "[51, 37, 63],\n",
    "[89, 29, 100],\n",
    "[83, 58, 11],\n",
    "[65, 13, 15],\n",
    "[47, 25, 29],\n",
    "[60, 66, 19]]"
   ]
  },
  {
   "cell_type": "code",
   "execution_count": 17,
   "id": "497f89af",
   "metadata": {},
   "outputs": [
    {
     "data": {
      "text/plain": [
       "2"
      ]
     },
     "execution_count": 17,
     "metadata": {},
     "output_type": "execute_result"
    }
   ],
   "source": [
    "input_lst[0].index(sorted(input_lst[0])[1])"
   ]
  },
  {
   "cell_type": "code",
   "execution_count": 12,
   "id": "d4e2daa5",
   "metadata": {},
   "outputs": [
    {
     "data": {
      "text/plain": [
       "5"
      ]
     },
     "execution_count": 12,
     "metadata": {},
     "output_type": "execute_result"
    }
   ],
   "source": [
    "sorted(input_lst[0])[1] - sorted(input_lst[0])[0] "
   ]
  },
  {
   "cell_type": "code",
   "execution_count": 19,
   "id": "1f04e4f7",
   "metadata": {},
   "outputs": [
    {
     "data": {
      "text/plain": [
       "[[71, 39, 44],\n",
       " [32, 83, 55],\n",
       " [51, 37, 63],\n",
       " [89, 29, 100],\n",
       " [83, 58, 11],\n",
       " [65, 13, 15],\n",
       " [47, 25, 29],\n",
       " [60, 66, 19]]"
      ]
     },
     "execution_count": 19,
     "metadata": {},
     "output_type": "execute_result"
    }
   ],
   "source": [
    "input_lst"
   ]
  },
  {
   "cell_type": "code",
   "execution_count": 30,
   "id": "6d05da2f",
   "metadata": {},
   "outputs": [],
   "source": [
    "def sol(input_lst, n):\n",
    "    ans_lst = []\n",
    "    for i in range(n):\n",
    "        # lst 중 1번째's min값의 value와 인덱스를 저장\n",
    "        ans_lst.append([min(input_lst[i]), input_lst[i].index(min(input_lst[i]))])\n",
    "        # 만약, 같은 index일 경우 이전 step의 min값과 2번째값의 차이보다 현재 step의 min값과 2번째값의 차이가 더 큰지 확인\n",
    "        # 더 클 경우, 이전 step의 value와 idx를 2번째값으로 변경\n",
    "        if ans_lst[i - 1][1] == ans_lst[i][1] and \\\n",
    "          (sorted(input_lst[i - 1])[1] - sorted(input_lst[i - 1])[0]) > (sorted(input_lst[i])[1] - sorted(input_lst[i])[0]):\n",
    "                ans_lst[i - 1] = [sorted(input_lst[i - 1])[1], input_lst[i - 1].index(sorted(input_lst[i - 1])[1])]\n",
    "        elif ans_lst[i - 1][1] == ans_lst[i][1] and \\\n",
    "          (sorted(input_lst[i - 1])[1] - sorted(input_lst[i - 1])[0]) <= (sorted(input_lst[i])[1] - sorted(input_lst[i])[0]):\n",
    "                ans_lst[i] = [sorted(input_lst[i])[1], input_lst[i].index(sorted(input_lst[i])[1])]\n",
    "        \n",
    "    return ans_lst"
   ]
  },
  {
   "cell_type": "code",
   "execution_count": 31,
   "id": "c07224bc",
   "metadata": {},
   "outputs": [
    {
     "data": {
      "text/plain": [
       "[[60, 0], [55, 2], [37, 1], [89, 0], [11, 2], [13, 1], [29, 2], [60, 0]]"
      ]
     },
     "execution_count": 31,
     "metadata": {},
     "output_type": "execute_result"
    }
   ],
   "source": [
    "sol(input_lst, 8)"
   ]
  }
 ],
 "metadata": {
  "kernelspec": {
   "display_name": "Python 3 (ipykernel)",
   "language": "python",
   "name": "python3"
  },
  "language_info": {
   "codemirror_mode": {
    "name": "ipython",
    "version": 3
   },
   "file_extension": ".py",
   "mimetype": "text/x-python",
   "name": "python",
   "nbconvert_exporter": "python",
   "pygments_lexer": "ipython3",
   "version": "3.9.7"
  }
 },
 "nbformat": 4,
 "nbformat_minor": 5
}
