{
 "cells": [
  {
   "cell_type": "code",
   "execution_count": 53,
   "id": "11b77db9",
   "metadata": {},
   "outputs": [],
   "source": [
    "def sol(num) :\n",
    "    ans_lst = [0,1,1,2,3]\n",
    "    if num <= 5:\n",
    "        return ans_lst[num - 1]\n",
    "    \n",
    "    for i in range(6, num + 1):\n",
    "        if i%3 == 0 and i%2 == 0:\n",
    "            ans_lst.append(min(ans_lst[int(i/3) - 1], ans_lst[int(i/2) - 1], ans_lst[i - 1- 1]) + 1)\n",
    "        elif i%3 == 0 and i%2 != 0:\n",
    "            ans_lst.append(min(ans_lst[int(i/3) - 1], ans_lst[i - 1 - 1]) + 1)\n",
    "        elif i%3 != 0 and i%2 == 0:\n",
    "            ans_lst.append(min(ans_lst[int(i/2) - 1], ans_lst[i - 1 - 1]) + 1)\n",
    "        else :\n",
    "            ans_lst.append(ans_lst[i - 1 - 1] + 1)\n",
    "    return ans_lst[num - 1]\n",
    "\n",
    "print(sol(int(input())))"
   ]
  },
  {
   "cell_type": "code",
   "execution_count": 17,
   "id": "833b9f37",
   "metadata": {},
   "outputs": [
    {
     "name": "stdout",
     "output_type": "stream",
     "text": [
      "5.0\n",
      "4.0\n",
      "2.0\n",
      "1.0\n"
     ]
    },
    {
     "data": {
      "text/plain": [
       "4"
      ]
     },
     "execution_count": 17,
     "metadata": {},
     "output_type": "execute_result"
    }
   ],
   "source": [
    "sol_1(10)"
   ]
  }
 ],
 "metadata": {
  "kernelspec": {
   "display_name": "Python 3 (ipykernel)",
   "language": "python",
   "name": "python3"
  },
  "language_info": {
   "codemirror_mode": {
    "name": "ipython",
    "version": 3
   },
   "file_extension": ".py",
   "mimetype": "text/x-python",
   "name": "python",
   "nbconvert_exporter": "python",
   "pygments_lexer": "ipython3",
   "version": "3.9.7"
  }
 },
 "nbformat": 4,
 "nbformat_minor": 5
}
