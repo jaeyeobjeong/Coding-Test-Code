{
 "cells": [
  {
   "cell_type": "code",
   "execution_count": 2,
   "id": "ddc099c2",
   "metadata": {},
   "outputs": [],
   "source": [
    "spot_num = 7 ; link_num = 6\n",
    "input_lst = [\n",
    "    [1,2],\n",
    "    [2,3],\n",
    "    [1,5],\n",
    "    [5,2],\n",
    "    [5,6],\n",
    "    [4,7],\n",
    "]"
   ]
  },
  {
   "cell_type": "code",
   "execution_count": 31,
   "id": "3cf8a021",
   "metadata": {},
   "outputs": [
    {
     "data": {
      "text/plain": [
       "4"
      ]
     },
     "execution_count": 31,
     "metadata": {},
     "output_type": "execute_result"
    }
   ],
   "source": [
    "# make dic\n",
    "link_dic = {}\n",
    "for i in range(1,spot_num + 1):\n",
    "    link_dic[i] = []\n",
    "    for j in range(link_num):\n",
    "        if i in input_lst[j]:\n",
    "            link_dic[i].extend([input_lst[j]])\n",
    "    link_dic[i] = [link_spot for l in link_dic[i] for link_spot in l if link_spot != i]\n",
    "\n",
    "# dic to dfs\n",
    "def dfs(graph, start_node):\n",
    "    visited, need_visit = list(), list()\n",
    "    need_visit.append(start_node)\n",
    "    \n",
    "    while need_visit:\n",
    "        node = need_visit.pop()\n",
    "        if node not in visited:\n",
    "            visited.append(node)\n",
    "            need_visit.extend(graph[node])\n",
    "    \n",
    "    return len(visited) - 1\n",
    "\n",
    "dfs(link_dic, 1)"
   ]
  }
 ],
 "metadata": {
  "kernelspec": {
   "display_name": "Python 3 (ipykernel)",
   "language": "python",
   "name": "python3"
  },
  "language_info": {
   "codemirror_mode": {
    "name": "ipython",
    "version": 3
   },
   "file_extension": ".py",
   "mimetype": "text/x-python",
   "name": "python",
   "nbconvert_exporter": "python",
   "pygments_lexer": "ipython3",
   "version": "3.9.7"
  }
 },
 "nbformat": 4,
 "nbformat_minor": 5
}
